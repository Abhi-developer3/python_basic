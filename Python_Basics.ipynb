{
  "nbformat": 4,
  "nbformat_minor": 0,
  "metadata": {
    "colab": {
      "provenance": []
    },
    "kernelspec": {
      "name": "python3",
      "display_name": "Python 3"
    },
    "language_info": {
      "name": "python"
    }
  },
  "cells": [
    {
      "cell_type": "markdown",
      "source": [
        "# **Python Basics**"
      ],
      "metadata": {
        "id": "EaEWw5V8mUhy"
      }
    },
    {
      "cell_type": "markdown",
      "source": [
        "Theoretical Questions"
      ],
      "metadata": {
        "id": "G4ztjC_1meX6"
      }
    },
    {
      "cell_type": "markdown",
      "source": [
        "1. What is Python, and why is it popular?\n",
        "- Python is a high-level, interpreted programming language known for its readability and simplicity. It is popular due to its easy syntax, extensive libraries, and versatility in fields like web development, data science, and artificial intelligence.\n",
        "2. What is an interpreter in Python?\n",
        "- An interpreter in Python is a program that executes Python code line by line rather than compiling it into machine code beforehand.\n",
        "3. What are pre-defined keywords in Python?\n",
        "- Pre-defined keywords in Python are reserved words with special meanings, such as if, else, for, while, import, def, and return.\n",
        "4. Can keywords be used as variable names?\n",
        "- No, keywords cannot be used as variable names because they have predefined meanings in the language.\n",
        "5. What is mutability in Python?\n",
        "- Mutability refers to whether an object’s value can be changed after it is created. Mutable objects can be modified, while immutable ones cannot.\n",
        "6. Why are lists mutable, but tuples are immutable?\n",
        "- Lists are mutable because their elements can be changed, added, or removed after creation. Tuples, on the other hand, are immutable, meaning their elements cannot be altered after initialization.\n",
        "7. What is the difference between “==” and “is” operators in Python?\n",
        "- \"==\" compares the values of two objects.\n",
        "  \n",
        "  \"is\" checks whether two objects refer to the same memory location.\n",
        "8. What are logical operators in Python?\n",
        "- Logical operators in Python include:\n",
        "\n",
        "  and: Returns True if both conditions are True.\n",
        "\n",
        "  or: Returns True if at least one condition is True.\n",
        "\n",
        "  not: Reverses the Boolean value of a condition.\n",
        "9. What is type casting in Python?\n",
        "- Type casting is converting one data type to another, such as from int to float or str to int.\n",
        "10. What is the difference between implicit and explicit type casting?\n",
        "- Implicit type casting is automatically done by Python, e.g., int to float.\n",
        "\n",
        "  Explicit type casting requires using functions like int(), float(), or str().\n",
        "11. What is the purpose of conditional statements in Python?\n",
        "- Conditional statements (if, elif, else) allow decision-making in a program based on certain conditions.\n",
        "12. How does the elif statement work?\n",
        "- The elif statement is used when multiple conditions need to be checked sequentially. It executes when its condition is True, after checking if.\n",
        "13. What is the difference between for and while loops?\n",
        "- A for loop iterates over a sequence (e.g., list, range).\n",
        "\n",
        "  A while loop runs as long as a condition remains True.\n",
        "14. Describe a scenario where a while loop is more suitable than a for loop.\n",
        "- A while loop is better when the number of iterations is unknown beforehand, such as waiting for a user to enter a valid password.\n",
        "\n"
      ],
      "metadata": {
        "id": "HeeBh8ILnX0F"
      }
    },
    {
      "cell_type": "markdown",
      "source": [
        "Practical Questions"
      ],
      "metadata": {
        "id": "HszOfzqvq_fO"
      }
    },
    {
      "cell_type": "code",
      "source": [
        "# 1. Write a Python program to print \"Hello, World!\"\n",
        "print(\"Hello, World!\")"
      ],
      "metadata": {
        "colab": {
          "base_uri": "https://localhost:8080/"
        },
        "id": "5R1yOlUarDTN",
        "outputId": "432b9faa-3f0e-4677-bf0a-f8fea824b98b"
      },
      "execution_count": 1,
      "outputs": [
        {
          "output_type": "stream",
          "name": "stdout",
          "text": [
            "Hello, World!\n"
          ]
        }
      ]
    },
    {
      "cell_type": "code",
      "source": [
        "# 2. Write a Python program that displays your name and age.\n",
        "name=input(\"Enter your name\")\n",
        "age=int(input(\"Enter your age\"))\n",
        "print(\"Name is\",name)\n",
        "print(\"Age is\",age)"
      ],
      "metadata": {
        "colab": {
          "base_uri": "https://localhost:8080/"
        },
        "id": "R499aI-krXg0",
        "outputId": "01e4bc19-f146-4048-ba2a-3518c4134d5c"
      },
      "execution_count": 3,
      "outputs": [
        {
          "output_type": "stream",
          "name": "stdout",
          "text": [
            "Enter your nameAbhishek\n",
            "Enter your age21\n",
            "Name is Abhishek\n",
            "Age is 21\n"
          ]
        }
      ]
    },
    {
      "cell_type": "code",
      "source": [
        "# 3. Write code to print all the pre-defined keywords in Python using the keyword library.\n",
        "import keyword\n",
        "print(keyword.kwlist)"
      ],
      "metadata": {
        "colab": {
          "base_uri": "https://localhost:8080/"
        },
        "id": "CWvWOMa7sCjG",
        "outputId": "0ce08a3f-2922-4f64-a7f3-ca52d1f78241"
      },
      "execution_count": 6,
      "outputs": [
        {
          "output_type": "stream",
          "name": "stdout",
          "text": [
            "['False', 'None', 'True', 'and', 'as', 'assert', 'async', 'await', 'break', 'class', 'continue', 'def', 'del', 'elif', 'else', 'except', 'finally', 'for', 'from', 'global', 'if', 'import', 'in', 'is', 'lambda', 'nonlocal', 'not', 'or', 'pass', 'raise', 'return', 'try', 'while', 'with', 'yield']\n"
          ]
        }
      ]
    },
    {
      "cell_type": "code",
      "source": [
        "# 4. Write a program that checks if a given word is a Python keyword.\n",
        "import keyword\n",
        "word=input(\"Enter a word \")\n",
        "if keyword.iskeyword(word):\n",
        "  print(word,\"is a keyword\")\n",
        "else:\n",
        "  print(word,\"is not a keyword\")"
      ],
      "metadata": {
        "colab": {
          "base_uri": "https://localhost:8080/"
        },
        "id": "yrvQwWjhsghJ",
        "outputId": "432c084a-c7b4-4d51-d526-5f594ce7e7e7"
      },
      "execution_count": 8,
      "outputs": [
        {
          "output_type": "stream",
          "name": "stdout",
          "text": [
            "Enter a word as\n",
            "as is a keyword\n"
          ]
        }
      ]
    },
    {
      "cell_type": "code",
      "source": [
        "# 5. Create a list and tuple in Python, and demonstrate how attempting to change an element works differently for each.\n",
        "lis=[1,2,3,4,5]\n",
        "tup=(1,2,3,4,5)\n",
        "lis[0]=10\n",
        "print(lis)"
      ],
      "metadata": {
        "colab": {
          "base_uri": "https://localhost:8080/"
        },
        "id": "J2S4JJbWsuog",
        "outputId": "ff0af03c-c169-4140-cca8-9d288d5f235f"
      },
      "execution_count": 9,
      "outputs": [
        {
          "output_type": "stream",
          "name": "stdout",
          "text": [
            "[10, 2, 3, 4, 5]\n"
          ]
        }
      ]
    },
    {
      "cell_type": "code",
      "source": [
        "tup[0]=12 # produce an error because tuple is mutable"
      ],
      "metadata": {
        "colab": {
          "base_uri": "https://localhost:8080/",
          "height": 141
        },
        "id": "SzFt97B2taI6",
        "outputId": "72a71604-5d76-4d59-c463-8c69b1103f15"
      },
      "execution_count": 10,
      "outputs": [
        {
          "output_type": "error",
          "ename": "TypeError",
          "evalue": "'tuple' object does not support item assignment",
          "traceback": [
            "\u001b[0;31m---------------------------------------------------------------------------\u001b[0m",
            "\u001b[0;31mTypeError\u001b[0m                                 Traceback (most recent call last)",
            "\u001b[0;32m<ipython-input-10-4ff32c9431e3>\u001b[0m in \u001b[0;36m<cell line: 0>\u001b[0;34m()\u001b[0m\n\u001b[0;32m----> 1\u001b[0;31m \u001b[0mtup\u001b[0m\u001b[0;34m[\u001b[0m\u001b[0;36m0\u001b[0m\u001b[0;34m]\u001b[0m\u001b[0;34m=\u001b[0m\u001b[0;36m12\u001b[0m\u001b[0;34m\u001b[0m\u001b[0;34m\u001b[0m\u001b[0m\n\u001b[0m",
            "\u001b[0;31mTypeError\u001b[0m: 'tuple' object does not support item assignment"
          ]
        }
      ]
    },
    {
      "cell_type": "code",
      "source": [
        "# 6. Write a function to demonstrate the behavior of mutable and immutable arguments.\n",
        "def muta_immut(mutable_list,immutable_tuple):\n",
        "  mutable_list.append(6)\n",
        "  immutable_tuple=immutable_tuple+(6,)\n",
        "  return mutable_list,immutable_tuple\n",
        "mutable_list=[1,2,3,4,5]\n",
        "immutable_tuple=(1,2,3,4,5)\n",
        "print(muta_immut(mutable_list,immutable_tuple))"
      ],
      "metadata": {
        "colab": {
          "base_uri": "https://localhost:8080/"
        },
        "id": "EGhqYxKctqOh",
        "outputId": "ea0f5d77-9ff6-4139-a800-48998378a83a"
      },
      "execution_count": 12,
      "outputs": [
        {
          "output_type": "stream",
          "name": "stdout",
          "text": [
            "([1, 2, 3, 4, 5, 6], (1, 2, 3, 4, 5, 6))\n"
          ]
        }
      ]
    },
    {
      "cell_type": "code",
      "source": [
        "# 7. Write a program that performs basic arithmetic operations on two user-input numbers.\n",
        "num1=int(input(\"Enter first number\"))\n",
        "num2=int(input(\"Enter second number\"))\n",
        "print(\"Addition is\",num1+num2)\n",
        "print(\"Subtraction is\",num1-num2)\n",
        "print(\"Multiplication is\",num1*num2)\n",
        "print(\"Division is\",num1/num2)\n",
        "print(\"Remainder is\",num1%num2)\n",
        "print(\"Exponent is\",num1**num2)"
      ],
      "metadata": {
        "colab": {
          "base_uri": "https://localhost:8080/"
        },
        "id": "FehUQVsavMPa",
        "outputId": "e2590326-5e9e-4cff-e9c2-24aa28c029dd"
      },
      "execution_count": 14,
      "outputs": [
        {
          "output_type": "stream",
          "name": "stdout",
          "text": [
            "Enter first number10\n",
            "Enter second number6\n",
            "Addition is 16\n",
            "Subtraction is 4\n",
            "Multiplication is 60\n",
            "Division is 1.6666666666666667\n",
            "Remainder is 4\n",
            "Exponent is 1000000\n"
          ]
        }
      ]
    },
    {
      "cell_type": "code",
      "source": [
        "# 8. Write a program to demonstrate the use of logical operators.\n",
        "a=True\n",
        "b=False\n",
        "print(\"a and b is\",a and b)\n",
        "print(\"a or b is\",a or b)\n",
        "print(\"not a is\",not a)"
      ],
      "metadata": {
        "colab": {
          "base_uri": "https://localhost:8080/"
        },
        "id": "_bMgjooUvVzp",
        "outputId": "64085f10-7343-425b-d4c2-e57abdf5dde5"
      },
      "execution_count": 15,
      "outputs": [
        {
          "output_type": "stream",
          "name": "stdout",
          "text": [
            "a and b is False\n",
            "a or b is True\n",
            "not a is False\n"
          ]
        }
      ]
    },
    {
      "cell_type": "code",
      "source": [
        "# 9. Write a Python program to convert user input from string to integer, float, and boolean types.\n",
        "num=input(\"Enter a number: \")\n",
        "print(int(num))\n",
        "print(float(num))\n",
        "print(bool(num))"
      ],
      "metadata": {
        "colab": {
          "base_uri": "https://localhost:8080/"
        },
        "id": "JpEv0ze1vt0E",
        "outputId": "77566172-d782-4231-c616-16e76e26380c"
      },
      "execution_count": 16,
      "outputs": [
        {
          "output_type": "stream",
          "name": "stdout",
          "text": [
            "Enter a number: 23\n",
            "23\n",
            "23.0\n",
            "True\n"
          ]
        }
      ]
    },
    {
      "cell_type": "code",
      "source": [
        "# 10. Write code to demonstrate type casting with list elements.\n",
        "lis=[\"1\",\"3\",\"34\",\"3\"]\n",
        "list(map(int,lis))"
      ],
      "metadata": {
        "colab": {
          "base_uri": "https://localhost:8080/"
        },
        "id": "JjSPiyD7wB5H",
        "outputId": "7d71b86b-ef2a-47d8-a406-90bceb5ff241"
      },
      "execution_count": 20,
      "outputs": [
        {
          "output_type": "execute_result",
          "data": {
            "text/plain": [
              "[1, 3, 34, 3]"
            ]
          },
          "metadata": {},
          "execution_count": 20
        }
      ]
    },
    {
      "cell_type": "code",
      "source": [
        "# 11. Write a program that checks if a number is positive, negative, or zero.\n",
        "user_input=int(input(\"Enter a Number \"))\n",
        "if user_input>0:\n",
        "  print(\"Number is positive\")\n",
        "elif user_input<0:\n",
        "  print(\"Number is negative\")\n",
        "else:\n",
        "  print(\"Number is zero\")"
      ],
      "metadata": {
        "colab": {
          "base_uri": "https://localhost:8080/"
        },
        "id": "xOFzWKDgwuca",
        "outputId": "cfc44ccd-1c44-4659-b8c4-e87c59c43d7e"
      },
      "execution_count": 23,
      "outputs": [
        {
          "output_type": "stream",
          "name": "stdout",
          "text": [
            "Enter a Number 0\n",
            "Number is zero\n"
          ]
        }
      ]
    },
    {
      "cell_type": "code",
      "source": [
        "# 12. Write a for loop to print numbers from 1 to 10.\n",
        "for i in range(1,11):\n",
        "  print(i)"
      ],
      "metadata": {
        "colab": {
          "base_uri": "https://localhost:8080/"
        },
        "id": "ltCJwKewxjil",
        "outputId": "1d9ba724-af8b-4ffd-ff99-cc716d964286"
      },
      "execution_count": 24,
      "outputs": [
        {
          "output_type": "stream",
          "name": "stdout",
          "text": [
            "1\n",
            "2\n",
            "3\n",
            "4\n",
            "5\n",
            "6\n",
            "7\n",
            "8\n",
            "9\n",
            "10\n"
          ]
        }
      ]
    },
    {
      "cell_type": "code",
      "source": [
        "# 13. Write a Python program to find the sum of all even numbers between 1 and 50.\n",
        "even_sum=0\n",
        "for i in range (1,51):\n",
        "  if i%2==0:\n",
        "    even_sum=even_sum+i\n",
        "print(even_sum)\n"
      ],
      "metadata": {
        "colab": {
          "base_uri": "https://localhost:8080/"
        },
        "id": "GEo_HcSWxzFf",
        "outputId": "acfe3ae4-55d5-4c88-9eb4-1ee375f36450"
      },
      "execution_count": 34,
      "outputs": [
        {
          "output_type": "stream",
          "name": "stdout",
          "text": [
            "650\n"
          ]
        }
      ]
    },
    {
      "cell_type": "code",
      "source": [
        "# 14. Write a program to reverse a string using a while loop.\n",
        "string=input(\"Enter a string \")\n",
        "rev=\"\"\n",
        "i=len(string)-1\n",
        "while i>=0:\n",
        "  rev=rev+string[i]\n",
        "  i=i-1\n",
        "print(rev)"
      ],
      "metadata": {
        "colab": {
          "base_uri": "https://localhost:8080/"
        },
        "id": "0i1mlWLyzrjc",
        "outputId": "53b65d21-000c-4101-9c10-a95809df46f5"
      },
      "execution_count": 35,
      "outputs": [
        {
          "output_type": "stream",
          "name": "stdout",
          "text": [
            "Enter a string Abhi\n",
            "ihbA\n"
          ]
        }
      ]
    },
    {
      "cell_type": "code",
      "source": [
        "# 15. Write a Python program to calculate the factorial of a number provided by the user using a while loop.\n",
        "user_input=int(input(\"Enter a number \"))\n",
        "fact=1\n",
        "i=1\n",
        "while i<=user_input:\n",
        "  fact=fact*i\n",
        "  i=i+1\n",
        "print(fact)"
      ],
      "metadata": {
        "colab": {
          "base_uri": "https://localhost:8080/"
        },
        "id": "cCvb57kyz9jN",
        "outputId": "300911b4-e653-430e-d881-7779c92ce545"
      },
      "execution_count": 36,
      "outputs": [
        {
          "output_type": "stream",
          "name": "stdout",
          "text": [
            "Enter a number 12\n",
            "479001600\n"
          ]
        }
      ]
    }
  ]
}